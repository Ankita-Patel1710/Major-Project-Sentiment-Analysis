{
  "nbformat": 4,
  "nbformat_minor": 0,
  "metadata": {
    "colab": {
      "name": "Major Project - Sentiment Analysis.ipynb",
      "provenance": [],
      "mount_file_id": "1P0NxdiDzVzSH0658e3YlcdHHXddBccQi",
      "authorship_tag": "ABX9TyP2YL1IDwhZew4XrglmpPlX",
      "include_colab_link": true
    },
    "kernelspec": {
      "name": "python3",
      "display_name": "Python 3"
    },
    "language_info": {
      "name": "python"
    }
  },
  "cells": [
    {
      "cell_type": "markdown",
      "metadata": {
        "id": "view-in-github",
        "colab_type": "text"
      },
      "source": [
        "<a href=\"https://colab.research.google.com/github/Ankita-Patel1710/Major-Project-Sentiment-Analysis/blob/main/Major_Project_Sentiment_Analysis.ipynb\" target=\"_parent\"><img src=\"https://colab.research.google.com/assets/colab-badge.svg\" alt=\"Open In Colab\"/></a>"
      ]
    },
    {
      "cell_type": "markdown",
      "metadata": {
        "id": "xZs7Ju8L9pgG"
      },
      "source": [
        "# **MAJOR PROJECT - SENTIMENT ANALYSIS OF IMDB MOVIE REVIEWS**"
      ]
    },
    {
      "cell_type": "markdown",
      "metadata": {
        "id": "cX3p_l95zpIr"
      },
      "source": [
        "## **Gathering Data**\n",
        "\n",
        "*   50,000 IMDB movie reviews for sentiment analysis\n",
        "*   Kaggle Dataset\n",
        "\n",
        "\n"
      ]
    },
    {
      "cell_type": "code",
      "metadata": {
        "colab": {
          "base_uri": "https://localhost:8080/",
          "height": 195
        },
        "id": "y8NzmyCnlUXN",
        "outputId": "7aa9f4df-08f4-4d7e-a71f-c52acd0e6de8"
      },
      "source": [
        "import pandas as pd\n",
        "\n",
        "df = pd.read_table('/content/drive/MyDrive/datasets/major project/labeledTrainData.tsv')\n",
        "df.head()"
      ],
      "execution_count": 1,
      "outputs": [
        {
          "output_type": "execute_result",
          "data": {
            "text/html": [
              "<div>\n",
              "<style scoped>\n",
              "    .dataframe tbody tr th:only-of-type {\n",
              "        vertical-align: middle;\n",
              "    }\n",
              "\n",
              "    .dataframe tbody tr th {\n",
              "        vertical-align: top;\n",
              "    }\n",
              "\n",
              "    .dataframe thead th {\n",
              "        text-align: right;\n",
              "    }\n",
              "</style>\n",
              "<table border=\"1\" class=\"dataframe\">\n",
              "  <thead>\n",
              "    <tr style=\"text-align: right;\">\n",
              "      <th></th>\n",
              "      <th>id</th>\n",
              "      <th>sentiment</th>\n",
              "      <th>review</th>\n",
              "    </tr>\n",
              "  </thead>\n",
              "  <tbody>\n",
              "    <tr>\n",
              "      <th>0</th>\n",
              "      <td>5814_8</td>\n",
              "      <td>1</td>\n",
              "      <td>With all this stuff going down at the moment w...</td>\n",
              "    </tr>\n",
              "    <tr>\n",
              "      <th>1</th>\n",
              "      <td>2381_9</td>\n",
              "      <td>1</td>\n",
              "      <td>\\The Classic War of the Worlds\\\" by Timothy Hi...</td>\n",
              "    </tr>\n",
              "    <tr>\n",
              "      <th>2</th>\n",
              "      <td>7759_3</td>\n",
              "      <td>0</td>\n",
              "      <td>The film starts with a manager (Nicholas Bell)...</td>\n",
              "    </tr>\n",
              "    <tr>\n",
              "      <th>3</th>\n",
              "      <td>3630_4</td>\n",
              "      <td>0</td>\n",
              "      <td>It must be assumed that those who praised this...</td>\n",
              "    </tr>\n",
              "    <tr>\n",
              "      <th>4</th>\n",
              "      <td>9495_8</td>\n",
              "      <td>1</td>\n",
              "      <td>Superbly trashy and wondrously unpretentious 8...</td>\n",
              "    </tr>\n",
              "  </tbody>\n",
              "</table>\n",
              "</div>"
            ],
            "text/plain": [
              "       id  sentiment                                             review\n",
              "0  5814_8          1  With all this stuff going down at the moment w...\n",
              "1  2381_9          1  \\The Classic War of the Worlds\\\" by Timothy Hi...\n",
              "2  7759_3          0  The film starts with a manager (Nicholas Bell)...\n",
              "3  3630_4          0  It must be assumed that those who praised this...\n",
              "4  9495_8          1  Superbly trashy and wondrously unpretentious 8..."
            ]
          },
          "metadata": {
            "tags": []
          },
          "execution_count": 1
        }
      ]
    },
    {
      "cell_type": "code",
      "metadata": {
        "colab": {
          "base_uri": "https://localhost:8080/"
        },
        "id": "NbaGN_qhqPW4",
        "outputId": "559531ba-af2c-4977-d210-7ce2dad88390"
      },
      "source": [
        "df['sentiment'].value_counts()"
      ],
      "execution_count": 2,
      "outputs": [
        {
          "output_type": "execute_result",
          "data": {
            "text/plain": [
              "1    12500\n",
              "0    12500\n",
              "Name: sentiment, dtype: int64"
            ]
          },
          "metadata": {
            "tags": []
          },
          "execution_count": 2
        }
      ]
    },
    {
      "cell_type": "markdown",
      "metadata": {
        "id": "vQSCTPjn7Tal"
      },
      "source": [
        "## **2. Preprocessing - Cleaning of Data**\n",
        "\n"
      ]
    },
    {
      "cell_type": "code",
      "metadata": {
        "colab": {
          "base_uri": "https://localhost:8080/",
          "height": 402
        },
        "id": "i3gWkP9t0T_Q",
        "outputId": "77ca7b01-c17b-4ab4-8bbf-50acb2db29f2"
      },
      "source": [
        "import re\n",
        "def cleanTxt(text):\n",
        "  text = re.sub(r'@[A-Za-z0-9]+', '', text) #removes @mentions\n",
        "  text = re.sub(r'#', '',text) #removing the # symbol\n",
        "  text = re.sub(r'RT[\\s]+','',text) #removing RT\n",
        "  text = re.sub('https?:\\/\\/\\S+','',text) #removing hyperlink\n",
        "  text = re.sub(r'[^\\w\\s]','', text) #removing punctuations\n",
        "  text = re.sub(r'[0-9]', '', text) #removing numbers\n",
        "\n",
        "  return text\n",
        "\n",
        "#clean the tweets\n",
        "df['review'] = df['review'].apply(cleanTxt)\n",
        "\n",
        "#show the cleaned tweets\n",
        "df"
      ],
      "execution_count": 3,
      "outputs": [
        {
          "output_type": "execute_result",
          "data": {
            "text/html": [
              "<div>\n",
              "<style scoped>\n",
              "    .dataframe tbody tr th:only-of-type {\n",
              "        vertical-align: middle;\n",
              "    }\n",
              "\n",
              "    .dataframe tbody tr th {\n",
              "        vertical-align: top;\n",
              "    }\n",
              "\n",
              "    .dataframe thead th {\n",
              "        text-align: right;\n",
              "    }\n",
              "</style>\n",
              "<table border=\"1\" class=\"dataframe\">\n",
              "  <thead>\n",
              "    <tr style=\"text-align: right;\">\n",
              "      <th></th>\n",
              "      <th>id</th>\n",
              "      <th>sentiment</th>\n",
              "      <th>review</th>\n",
              "    </tr>\n",
              "  </thead>\n",
              "  <tbody>\n",
              "    <tr>\n",
              "      <th>0</th>\n",
              "      <td>5814_8</td>\n",
              "      <td>1</td>\n",
              "      <td>With all this stuff going down at the moment w...</td>\n",
              "    </tr>\n",
              "    <tr>\n",
              "      <th>1</th>\n",
              "      <td>2381_9</td>\n",
              "      <td>1</td>\n",
              "      <td>The Classic War of the Worlds by Timothy Hines...</td>\n",
              "    </tr>\n",
              "    <tr>\n",
              "      <th>2</th>\n",
              "      <td>7759_3</td>\n",
              "      <td>0</td>\n",
              "      <td>The film starts with a manager Nicholas Bell g...</td>\n",
              "    </tr>\n",
              "    <tr>\n",
              "      <th>3</th>\n",
              "      <td>3630_4</td>\n",
              "      <td>0</td>\n",
              "      <td>It must be assumed that those who praised this...</td>\n",
              "    </tr>\n",
              "    <tr>\n",
              "      <th>4</th>\n",
              "      <td>9495_8</td>\n",
              "      <td>1</td>\n",
              "      <td>Superbly trashy and wondrously unpretentious s...</td>\n",
              "    </tr>\n",
              "    <tr>\n",
              "      <th>...</th>\n",
              "      <td>...</td>\n",
              "      <td>...</td>\n",
              "      <td>...</td>\n",
              "    </tr>\n",
              "    <tr>\n",
              "      <th>24995</th>\n",
              "      <td>3453_3</td>\n",
              "      <td>0</td>\n",
              "      <td>It seems like more consideration has gone into...</td>\n",
              "    </tr>\n",
              "    <tr>\n",
              "      <th>24996</th>\n",
              "      <td>5064_1</td>\n",
              "      <td>0</td>\n",
              "      <td>I dont believe they made this film Completely ...</td>\n",
              "    </tr>\n",
              "    <tr>\n",
              "      <th>24997</th>\n",
              "      <td>10905_3</td>\n",
              "      <td>0</td>\n",
              "      <td>Guy is a loser Cant get girls needs to build u...</td>\n",
              "    </tr>\n",
              "    <tr>\n",
              "      <th>24998</th>\n",
              "      <td>10194_3</td>\n",
              "      <td>0</td>\n",
              "      <td>This  minute documentary Buñuel made in the ea...</td>\n",
              "    </tr>\n",
              "    <tr>\n",
              "      <th>24999</th>\n",
              "      <td>8478_8</td>\n",
              "      <td>1</td>\n",
              "      <td>I saw this movie as a child and it broke my he...</td>\n",
              "    </tr>\n",
              "  </tbody>\n",
              "</table>\n",
              "<p>25000 rows × 3 columns</p>\n",
              "</div>"
            ],
            "text/plain": [
              "            id  sentiment                                             review\n",
              "0       5814_8          1  With all this stuff going down at the moment w...\n",
              "1       2381_9          1  The Classic War of the Worlds by Timothy Hines...\n",
              "2       7759_3          0  The film starts with a manager Nicholas Bell g...\n",
              "3       3630_4          0  It must be assumed that those who praised this...\n",
              "4       9495_8          1  Superbly trashy and wondrously unpretentious s...\n",
              "...        ...        ...                                                ...\n",
              "24995   3453_3          0  It seems like more consideration has gone into...\n",
              "24996   5064_1          0  I dont believe they made this film Completely ...\n",
              "24997  10905_3          0  Guy is a loser Cant get girls needs to build u...\n",
              "24998  10194_3          0  This  minute documentary Buñuel made in the ea...\n",
              "24999   8478_8          1  I saw this movie as a child and it broke my he...\n",
              "\n",
              "[25000 rows x 3 columns]"
            ]
          },
          "metadata": {
            "tags": []
          },
          "execution_count": 3
        }
      ]
    },
    {
      "cell_type": "code",
      "metadata": {
        "id": "D9NVpwIWqZYY"
      },
      "source": [
        "#assigning x and y\n",
        "\n",
        "x = df.iloc[:,2]\n",
        "y = df.iloc[:,1]"
      ],
      "execution_count": 4,
      "outputs": []
    },
    {
      "cell_type": "code",
      "metadata": {
        "id": "nVfbNVZIqnRI"
      },
      "source": [
        "from sklearn.model_selection import train_test_split\n",
        "x_train, x_test, y_train, y_test = train_test_split(x,y, test_size = 0.3, random_state = 0, stratify = y)"
      ],
      "execution_count": 5,
      "outputs": []
    },
    {
      "cell_type": "code",
      "metadata": {
        "colab": {
          "base_uri": "https://localhost:8080/"
        },
        "id": "-jZY94Mnqryb",
        "outputId": "cedbb5f8-7ab7-4624-fb2e-f8525733b1b2"
      },
      "source": [
        "print(x_train.shape)\n",
        "print(x_test.shape)"
      ],
      "execution_count": 6,
      "outputs": [
        {
          "output_type": "stream",
          "text": [
            "(17500,)\n",
            "(7500,)\n"
          ],
          "name": "stdout"
        }
      ]
    },
    {
      "cell_type": "code",
      "metadata": {
        "colab": {
          "base_uri": "https://localhost:8080/"
        },
        "id": "vdiQqKzEqw_C",
        "outputId": "3acbb3cc-3dba-463b-b361-ff73cbac6ef5"
      },
      "source": [
        "import numpy as np\n",
        "np.unique(y_train, return_counts=True)"
      ],
      "execution_count": 7,
      "outputs": [
        {
          "output_type": "execute_result",
          "data": {
            "text/plain": [
              "(array([0, 1]), array([8750, 8750]))"
            ]
          },
          "metadata": {
            "tags": []
          },
          "execution_count": 7
        }
      ]
    },
    {
      "cell_type": "code",
      "metadata": {
        "colab": {
          "base_uri": "https://localhost:8080/"
        },
        "id": "DMKGVql5q1BO",
        "outputId": "fbc30e7d-f206-453f-8d69-b0d95def8f85"
      },
      "source": [
        "np.unique(y_test, return_counts=True)"
      ],
      "execution_count": 8,
      "outputs": [
        {
          "output_type": "execute_result",
          "data": {
            "text/plain": [
              "(array([0, 1]), array([3750, 3750]))"
            ]
          },
          "metadata": {
            "tags": []
          },
          "execution_count": 8
        }
      ]
    },
    {
      "cell_type": "markdown",
      "metadata": {
        "id": "QuZ03OwB7rbm"
      },
      "source": [
        "## **Vectorization and Creation of Model**\n",
        "\n",
        "*   TFIDF Vectorizer\n",
        "\n",
        "*   Logistic Regression for classification algorithm\n",
        "\n",
        "\n"
      ]
    },
    {
      "cell_type": "code",
      "metadata": {
        "id": "Ab3VBazBHfA9"
      },
      "source": [
        "from sklearn.linear_model import LogisticRegression\n",
        "from sklearn.pipeline import Pipeline\n",
        "from sklearn.feature_extraction.text import TfidfVectorizer\n",
        "\n",
        "text_model = Pipeline([('Tfidf',TfidfVectorizer()),('model',LogisticRegression())])"
      ],
      "execution_count": 12,
      "outputs": []
    },
    {
      "cell_type": "code",
      "metadata": {
        "colab": {
          "base_uri": "https://localhost:8080/"
        },
        "id": "KDKAFI32Hqio",
        "outputId": "919de285-09cc-4f78-e815-fea880d57405"
      },
      "source": [
        "text_model.fit(x_train, y_train)"
      ],
      "execution_count": 13,
      "outputs": [
        {
          "output_type": "execute_result",
          "data": {
            "text/plain": [
              "Pipeline(memory=None,\n",
              "         steps=[('Tfidf',\n",
              "                 TfidfVectorizer(analyzer='word', binary=False,\n",
              "                                 decode_error='strict',\n",
              "                                 dtype=<class 'numpy.float64'>,\n",
              "                                 encoding='utf-8', input='content',\n",
              "                                 lowercase=True, max_df=1.0, max_features=None,\n",
              "                                 min_df=1, ngram_range=(1, 1), norm='l2',\n",
              "                                 preprocessor=None, smooth_idf=True,\n",
              "                                 stop_words=None, strip_accents=None,\n",
              "                                 sublinear_tf=False,\n",
              "                                 token_pattern='(?u)\\\\b\\\\w\\\\w+\\\\b',\n",
              "                                 tokenizer=None, use_idf=True,\n",
              "                                 vocabulary=None)),\n",
              "                ('model',\n",
              "                 LogisticRegression(C=1.0, class_weight=None, dual=False,\n",
              "                                    fit_intercept=True, intercept_scaling=1,\n",
              "                                    l1_ratio=None, max_iter=100,\n",
              "                                    multi_class='auto', n_jobs=None,\n",
              "                                    penalty='l2', random_state=None,\n",
              "                                    solver='lbfgs', tol=0.0001, verbose=0,\n",
              "                                    warm_start=False))],\n",
              "         verbose=False)"
            ]
          },
          "metadata": {
            "tags": []
          },
          "execution_count": 13
        }
      ]
    },
    {
      "cell_type": "code",
      "metadata": {
        "id": "fV4v8WSurD9q",
        "colab": {
          "base_uri": "https://localhost:8080/"
        },
        "outputId": "f2ba888c-6181-4c69-e7c0-73b20b16539c"
      },
      "source": [
        "y_pred = text_model.predict(x_test)\n",
        "y_pred"
      ],
      "execution_count": 14,
      "outputs": [
        {
          "output_type": "execute_result",
          "data": {
            "text/plain": [
              "array([0, 1, 0, ..., 0, 0, 1])"
            ]
          },
          "metadata": {
            "tags": []
          },
          "execution_count": 14
        }
      ]
    },
    {
      "cell_type": "code",
      "metadata": {
        "colab": {
          "base_uri": "https://localhost:8080/"
        },
        "id": "BsDsiSHQMgPw",
        "outputId": "24e81536-346f-4290-e5c8-28faceaeda71"
      },
      "source": [
        "positive = df[df['sentiment']==1]\n",
        "positive.iloc[16].values"
      ],
      "execution_count": 25,
      "outputs": [
        {
          "output_type": "stream",
          "text": [
            "2021-04-17 14:18:31.989 INFO    numexpr.utils: NumExpr defaulting to 2 threads.\n"
          ],
          "name": "stderr"
        },
        {
          "output_type": "execute_result",
          "data": {
            "text/plain": [
              "array(['4005_10', 1,\n",
              "       'Although at one point I thought this was going to turn into The Graduate I have to say that The Mother does an excellent job of explaining the sexual desires of an older womanbr br Im so glad this is a British film because Hollywood never would have done it and even if they had they would have ruined it by not taking the time to develop the charactersbr br The story is revealed slowly and realistically The acting is superb the characters are believably flawed and the dialogue is sensitive I tried many times to predict what was going to happen and I was always wrong so I was very intrigued by the storybr br I highly recommend this movie And I must confess Ill forever look at my mom in a different light'],\n",
              "      dtype=object)"
            ]
          },
          "metadata": {
            "tags": []
          },
          "execution_count": 25
        }
      ]
    },
    {
      "cell_type": "markdown",
      "metadata": {
        "id": "U3CGpGLh8dvD"
      },
      "source": [
        "## **Evaluation**\n",
        "\n",
        "*   Accuracy Score\n",
        "*   Confusion Matrix\n",
        "\n",
        "*   Classification Report\n",
        "\n",
        "\n",
        "\n"
      ]
    },
    {
      "cell_type": "code",
      "metadata": {
        "id": "qLP6LmufrTy7"
      },
      "source": [
        "# Evaluation\n",
        "from sklearn.metrics import accuracy_score,classification_report,confusion_matrix"
      ],
      "execution_count": 15,
      "outputs": []
    },
    {
      "cell_type": "code",
      "metadata": {
        "id": "I3r-23C4rYen",
        "colab": {
          "base_uri": "https://localhost:8080/"
        },
        "outputId": "f48e7684-8190-46bb-8a9b-1932138a4fef"
      },
      "source": [
        "accuracy_score(y_pred,y_test)*100"
      ],
      "execution_count": 16,
      "outputs": [
        {
          "output_type": "execute_result",
          "data": {
            "text/plain": [
              "88.49333333333334"
            ]
          },
          "metadata": {
            "tags": []
          },
          "execution_count": 16
        }
      ]
    },
    {
      "cell_type": "code",
      "metadata": {
        "id": "Xkr7jaEYraRE",
        "colab": {
          "base_uri": "https://localhost:8080/"
        },
        "outputId": "0cf449c0-5c40-42df-ca2c-5077319df17d"
      },
      "source": [
        "confusion_matrix(y_pred,y_test)"
      ],
      "execution_count": 17,
      "outputs": [
        {
          "output_type": "execute_result",
          "data": {
            "text/plain": [
              "array([[3284,  397],\n",
              "       [ 466, 3353]])"
            ]
          },
          "metadata": {
            "tags": []
          },
          "execution_count": 17
        }
      ]
    },
    {
      "cell_type": "code",
      "metadata": {
        "id": "H-Vj7b_rrcTd",
        "colab": {
          "base_uri": "https://localhost:8080/"
        },
        "outputId": "da2f3cfd-0b05-4ba3-d1d3-960019b9a749"
      },
      "source": [
        "print(classification_report(y_pred,y_test))"
      ],
      "execution_count": 18,
      "outputs": [
        {
          "output_type": "stream",
          "text": [
            "              precision    recall  f1-score   support\n",
            "\n",
            "           0       0.88      0.89      0.88      3681\n",
            "           1       0.89      0.88      0.89      3819\n",
            "\n",
            "    accuracy                           0.88      7500\n",
            "   macro avg       0.88      0.89      0.88      7500\n",
            "weighted avg       0.89      0.88      0.88      7500\n",
            "\n"
          ],
          "name": "stdout"
        }
      ]
    },
    {
      "cell_type": "markdown",
      "metadata": {
        "id": "nkoG1ii489cT"
      },
      "source": [
        "## **Creation of Web App using Streamlit**"
      ]
    },
    {
      "cell_type": "code",
      "metadata": {
        "id": "t-m7sXCdrfBi",
        "colab": {
          "base_uri": "https://localhost:8080/"
        },
        "outputId": "eca74ce4-b8de-45a6-ee0e-01b041414ba4"
      },
      "source": [
        "# For saving the model in ML, use Pickle, Joblib\n",
        "import joblib\n",
        "joblib.dump(text_model,'sentiment_analysis')"
      ],
      "execution_count": 19,
      "outputs": [
        {
          "output_type": "execute_result",
          "data": {
            "text/plain": [
              "['sentiment_analysis']"
            ]
          },
          "metadata": {
            "tags": []
          },
          "execution_count": 19
        }
      ]
    },
    {
      "cell_type": "code",
      "metadata": {
        "id": "42_qOadarw_o"
      },
      "source": [
        "!pip install -q --upgrade ipython\n",
        "!pip install -q --upgrade ipykernel"
      ],
      "execution_count": 20,
      "outputs": []
    },
    {
      "cell_type": "code",
      "metadata": {
        "id": "kg-F7mu8sUZj"
      },
      "source": [
        "!pip install streamlit --quiet\n",
        "!pip install pyngrok==4.1.1 --quiet\n",
        "from pyngrok import ngrok"
      ],
      "execution_count": 21,
      "outputs": []
    },
    {
      "cell_type": "code",
      "metadata": {
        "id": "ZyESFRmcsOmi",
        "colab": {
          "base_uri": "https://localhost:8080/"
        },
        "outputId": "f13b17d4-0a95-4495-e534-cdf15df4330c"
      },
      "source": [
        "%%writefile app.py\n",
        "import joblib\n",
        "import streamlit as st\n",
        "model = joblib.load('sentiment_analysis')\n",
        "st.title('Sentiment Classifier')\n",
        "ip = st.text_input('Enter your message : ')\n",
        "op = model.predict([ip])\n",
        "if st.button('Predict'):\n",
        "  st.title(op[0])"
      ],
      "execution_count": 23,
      "outputs": [
        {
          "output_type": "stream",
          "text": [
            "Writing app.py\n"
          ],
          "name": "stdout"
        }
      ]
    },
    {
      "cell_type": "code",
      "metadata": {
        "id": "7f_1d_nnsinS",
        "colab": {
          "base_uri": "https://localhost:8080/",
          "height": 576
        },
        "outputId": "c65bff3d-8e99-4973-807b-151fd05c7bfb"
      },
      "source": [
        "!nohup streamlit run app.py &\n",
        "url=ngrok.connect(port='8501')\n",
        "url"
      ],
      "execution_count": 24,
      "outputs": [
        {
          "output_type": "stream",
          "text": [
            "nohup: appending output to 'nohup.out'\n"
          ],
          "name": "stdout"
        },
        {
          "output_type": "stream",
          "text": [
            "2021-04-17 14:16:25.709 INFO    pyngrok.process: ngrok process starting: 772\n",
            "2021-04-17 14:16:25.736 INFO    pyngrok.process: t=2021-04-17T14:16:25+0000 lvl=info msg=\"no configuration paths supplied\"\n",
            "\n",
            "2021-04-17 14:16:25.739 INFO    pyngrok.process: t=2021-04-17T14:16:25+0000 lvl=info msg=\"using configuration at default config path\" path=/root/.ngrok2/ngrok.yml\n",
            "\n",
            "2021-04-17 14:16:25.742 INFO    pyngrok.process: t=2021-04-17T14:16:25+0000 lvl=info msg=\"open config file\" path=/root/.ngrok2/ngrok.yml err=nil\n",
            "\n",
            "2021-04-17 14:16:25.756 INFO    pyngrok.process: t=2021-04-17T14:16:25+0000 lvl=info msg=\"starting web service\" obj=web addr=127.0.0.1:4040\n",
            "\n",
            "2021-04-17 14:16:25.846 INFO    pyngrok.process: t=2021-04-17T14:16:25+0000 lvl=info msg=\"tunnel session started\" obj=tunnels.session\n",
            "\n",
            "2021-04-17 14:16:25.849 INFO    pyngrok.process: t=2021-04-17T14:16:25+0000 lvl=info msg=\"client session established\" obj=csess id=8970f68a1e07\n",
            "\n",
            "2021-04-17 14:16:25.852 INFO    pyngrok.process: ngrok process has started: http://127.0.0.1:4040\n",
            "2021-04-17 14:16:25.865 INFO    pyngrok.process: t=2021-04-17T14:16:25+0000 lvl=info msg=start pg=/api/tunnels id=26eb0bae9eb28685\n",
            "\n",
            "2021-04-17 14:16:25.871 INFO    pyngrok.process: t=2021-04-17T14:16:25+0000 lvl=info msg=end pg=/api/tunnels id=26eb0bae9eb28685 status=200 dur=390.077µs\n",
            "\n",
            "2021-04-17 14:16:25.873 INFO    pyngrok.process: t=2021-04-17T14:16:25+0000 lvl=info msg=start pg=/api/tunnels id=68c2169a763ac5e3\n",
            "\n",
            "2021-04-17 14:16:25.876 INFO    pyngrok.process: t=2021-04-17T14:16:25+0000 lvl=info msg=end pg=/api/tunnels id=68c2169a763ac5e3 status=200 dur=125.176µs\n",
            "\n",
            "2021-04-17 14:16:25.879 INFO    pyngrok.process: t=2021-04-17T14:16:25+0000 lvl=info msg=start pg=/api/tunnels id=f9182b24224d9edc\n",
            "\n",
            "2021-04-17 14:16:25.919 INFO    pyngrok.process: t=2021-04-17T14:16:25+0000 lvl=info msg=\"started tunnel\" obj=tunnels name=\"http-8501-4b2abcbc-ef23-456f-bd1c-e263c8b26790 (http)\" addr=http://localhost:8501 url=http://aacf443e4c00.ngrok.io\n",
            "\n",
            "2021-04-17 14:16:25.925 INFO    pyngrok.process: t=2021-04-17T14:16:25+0000 lvl=info msg=\"started tunnel\" obj=tunnels name=http-8501-4b2abcbc-ef23-456f-bd1c-e263c8b26790 addr=http://localhost:8501 url=https://aacf443e4c00.ngrok.io\n",
            "\n"
          ],
          "name": "stderr"
        },
        {
          "output_type": "execute_result",
          "data": {
            "application/vnd.google.colaboratory.intrinsic+json": {
              "type": "string"
            },
            "text/plain": [
              "'http://aacf443e4c00.ngrok.io'"
            ]
          },
          "metadata": {
            "tags": []
          },
          "execution_count": 24
        },
        {
          "output_type": "stream",
          "text": [
            "2021-04-17 14:16:25.928 INFO    pyngrok.process: t=2021-04-17T14:16:25+0000 lvl=info msg=end pg=/api/tunnels id=f9182b24224d9edc status=201 dur=53.694333ms\n",
            "\n"
          ],
          "name": "stderr"
        }
      ]
    },
    {
      "cell_type": "markdown",
      "metadata": {
        "id": "CuM7pLJI9Rh-"
      },
      "source": [
        "## **Deployment on Heroku**\n",
        "\n",
        "*   Link : https://sentiment-analysis-ankita.herokuapp.com/\n",
        "\n"
      ]
    }
  ]
}